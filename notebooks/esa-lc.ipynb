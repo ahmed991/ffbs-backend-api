{
 "cells": [
  {
   "cell_type": "code",
   "execution_count": null,
   "id": "c96c17f9",
   "metadata": {},
   "outputs": [],
   "source": [
    "bbox_of_interest = [33.984, 0.788, 34.902, 1.533]\n"
   ]
  },
  {
   "cell_type": "code",
   "execution_count": null,
   "id": "03da9f26",
   "metadata": {},
   "outputs": [],
   "source": [
    "import pystac_client\n",
    "import planetary_computer\n",
    "\n",
    "catalog = pystac_client.Client.open(\n",
    "    \"https://planetarycomputer.microsoft.com/api/stac/v1\",\n",
    "    modifier=planetary_computer.sign_inplace,\n",
    ")\n",
    "\n",
    "search = catalog.search(\n",
    "    collections=[\"esa-worldcover\"],\n",
    "    bbox=bbox_of_interest,\n",
    "    \n",
    ")\n",
    "\n",
    "items = list(search.get_items())\n",
    "items"
   ]
  },
  {
   "cell_type": "code",
   "execution_count": null,
   "id": "40e0916e",
   "metadata": {},
   "outputs": [],
   "source": []
  }
 ],
 "metadata": {
  "language_info": {
   "name": "python"
  }
 },
 "nbformat": 4,
 "nbformat_minor": 5
}
